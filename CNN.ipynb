{
 "cells": [
  {
   "cell_type": "code",
   "execution_count": 1,
   "id": "3cb743cd",
   "metadata": {},
   "outputs": [],
   "source": [
    "# Импортируем необходимые библиотеки\n",
    "\n",
    "import tensorflow as tf\n",
    "from tensorflow.keras.preprocessing.image import ImageDataGenerator\n",
    "from tensorflow.keras.models import Model, Sequential\n",
    "from tensorflow.keras.layers import Input, Flatten, Dense, Dropout, GlobalAveragePooling2D\n",
    "from tensorflow.keras.applications.mobilenet import MobileNet, preprocess_input\n",
    "from tensorflow.keras.callbacks import Callback, EarlyStopping\n",
    "import math\n",
    "\n",
    "# Импортируем загрузку модели\n",
    "from keras.models import load_model\n",
    "\n",
    "from tensorflow.keras.applications.resnet50 import preprocess_input, decode_predictions, ResNet50\n",
    "from tensorflow.keras.preprocessing import image\n",
    "import numpy as np"
   ]
  },
  {
   "cell_type": "code",
   "execution_count": 30,
   "id": "28502746",
   "metadata": {},
   "outputs": [],
   "source": [
    "TRAIN_DATA_DIR = 'C://Users//Legion 5//Desktop//Учёба//Стажки//Портфолио//Телеграмм бот для распознования Московских достопремичательностей//train'\n",
    "VALIDATION_DATA_DIR = 'C://Users//Legion 5//Desktop//Учёба//Стажки//Портфолио//Телеграмм бот для распознования Московских достопремичательностей//valid'\n",
    "TEST_DATA_DIR = 'C://Users//Legion 5//Desktop//Учёба//Стажки//Портфолио//Телеграмм бот для распознования Московских достопремичательностей//test'\n",
    "NUM_CLASSES = 12\n",
    "IMG_WIDTH, IMG_HEIGHT = 224, 224\n",
    "BATCH_SIZE = 64"
   ]
  },
  {
   "cell_type": "code",
   "execution_count": 31,
   "id": "177d82f0",
   "metadata": {},
   "outputs": [
    {
     "name": "stdout",
     "output_type": "stream",
     "text": [
      "Found 3169 images belonging to 12 classes.\n",
      "Found 800 images belonging to 12 classes.\n",
      "Found 477 images belonging to 12 classes.\n"
     ]
    }
   ],
   "source": [
    "train_datagen = ImageDataGenerator(preprocessing_function=preprocess_input,\n",
    "                                    rotation_range=20,\n",
    "                                    width_shift_range=0.2,\n",
    "                                    height_shift_range=0.2,\n",
    "                                    zoom_range=0.2)\n",
    "\n",
    "val_datagen = ImageDataGenerator(preprocessing_function=preprocess_input)\n",
    "\n",
    "train_generator = train_datagen.flow_from_directory(\n",
    "                                                    TRAIN_DATA_DIR,\n",
    "                                                    target_size=(IMG_WIDTH, IMG_HEIGHT),\n",
    "                                                    batch_size=BATCH_SIZE,\n",
    "                                                    shuffle=True,\n",
    "                                                    seed=12345,\n",
    "                                                    class_mode='categorical')\n",
    "validation_generator = val_datagen.flow_from_directory(\n",
    "                                                        VALIDATION_DATA_DIR,\n",
    "                                                        target_size=(IMG_WIDTH, IMG_HEIGHT),\n",
    "                                                        batch_size=BATCH_SIZE,\n",
    "                                                        shuffle=False,\n",
    "                                                        seed = 12345,\n",
    "                                                        class_mode='categorical')\n",
    "\n",
    "test_generator = val_datagen.flow_from_directory(TEST_DATA_DIR,\n",
    "                                                target_size=(IMG_WIDTH, IMG_HEIGHT),\n",
    "                                                batch_size=BATCH_SIZE,\n",
    "                                                shuffle=False,\n",
    "                                                seed = 12345,\n",
    "                                                class_mode='categorical')"
   ]
  },
  {
   "cell_type": "code",
   "execution_count": 4,
   "id": "e732af4b",
   "metadata": {},
   "outputs": [],
   "source": [
    "def model_maker():\n",
    "    \n",
    "    backbone = ResNet50(input_shape = (IMG_WIDTH,IMG_HEIGHT,3),\n",
    "                         include_top = False,\n",
    "                         weights = 'imagenet')\n",
    "    \n",
    "    backbone.trainable = False\n",
    "    \n",
    "    model = Sequential()\n",
    "    model.add(backbone)\n",
    "    model.add(GlobalAveragePooling2D())\n",
    "    model.add(Dense(2048, activation='relu'))\n",
    "    #model.add(Dense(1024, activation='relu'))\n",
    "    model.add(Dense(512, activation='relu'))\n",
    "    #model.add(Dense(128, activation='relu'))\n",
    "    model.add(Dense(128, activation='relu'))\n",
    "    model.add(Dense(64, activation='relu'))\n",
    "    model.add(Dense(NUM_CLASSES, activation='softmax'))\n",
    "    \n",
    "    return model"
   ]
  },
  {
   "cell_type": "code",
   "execution_count": 5,
   "id": "6353254a",
   "metadata": {},
   "outputs": [],
   "source": [
    "early_stopping = EarlyStopping(monitor='val_loss',\n",
    "                               mode='min',\n",
    "                               patience = 3,\n",
    "                               verbose=1,\n",
    "                               restore_best_weights=True)"
   ]
  },
  {
   "cell_type": "code",
   "execution_count": 6,
   "id": "ce9ad34d",
   "metadata": {},
   "outputs": [
    {
     "name": "stdout",
     "output_type": "stream",
     "text": [
      "Epoch 1/100\n",
      "10/10 - 97s - loss: 2.0908 - acc: 0.3250 - val_loss: 2.0394 - val_acc: 0.3281 - 97s/epoch - 10s/step\n",
      "Epoch 2/100\n",
      "10/10 - 80s - loss: 1.3328 - acc: 0.6797 - val_loss: 1.2448 - val_acc: 0.7148 - 80s/epoch - 8s/step\n",
      "Epoch 3/100\n",
      "10/10 - 82s - loss: 0.7874 - acc: 0.8375 - val_loss: 0.6528 - val_acc: 0.8477 - 82s/epoch - 8s/step\n",
      "Epoch 4/100\n",
      "10/10 - 78s - loss: 0.5169 - acc: 0.8719 - val_loss: 0.4620 - val_acc: 0.8867 - 78s/epoch - 8s/step\n",
      "Epoch 5/100\n",
      "10/10 - 79s - loss: 0.4110 - acc: 0.9047 - val_loss: 0.3458 - val_acc: 0.8984 - 79s/epoch - 8s/step\n",
      "Epoch 6/100\n",
      "10/10 - 74s - loss: 0.3296 - acc: 0.9097 - val_loss: 0.3860 - val_acc: 0.8906 - 74s/epoch - 7s/step\n",
      "Epoch 7/100\n",
      "10/10 - 75s - loss: 0.3027 - acc: 0.9212 - val_loss: 0.3327 - val_acc: 0.9023 - 75s/epoch - 8s/step\n",
      "Epoch 8/100\n",
      "10/10 - 76s - loss: 0.2204 - acc: 0.9392 - val_loss: 0.2399 - val_acc: 0.9414 - 76s/epoch - 8s/step\n",
      "Epoch 9/100\n",
      "10/10 - 77s - loss: 0.1930 - acc: 0.9500 - val_loss: 0.2581 - val_acc: 0.9141 - 77s/epoch - 8s/step\n",
      "Epoch 10/100\n",
      "10/10 - 80s - loss: 0.1714 - acc: 0.9547 - val_loss: 0.1989 - val_acc: 0.9297 - 80s/epoch - 8s/step\n",
      "Epoch 11/100\n",
      "10/10 - 77s - loss: 0.1883 - acc: 0.9391 - val_loss: 0.2128 - val_acc: 0.9336 - 77s/epoch - 8s/step\n",
      "Epoch 12/100\n",
      "10/10 - 77s - loss: 0.1551 - acc: 0.9578 - val_loss: 0.2406 - val_acc: 0.9258 - 77s/epoch - 8s/step\n",
      "Epoch 13/100\n",
      "10/10 - 77s - loss: 0.1562 - acc: 0.9594 - val_loss: 0.1909 - val_acc: 0.9375 - 77s/epoch - 8s/step\n",
      "Epoch 14/100\n",
      "10/10 - 78s - loss: 0.1760 - acc: 0.9453 - val_loss: 0.1726 - val_acc: 0.9492 - 78s/epoch - 8s/step\n",
      "Epoch 15/100\n",
      "10/10 - 76s - loss: 0.1053 - acc: 0.9688 - val_loss: 0.1563 - val_acc: 0.9570 - 76s/epoch - 8s/step\n",
      "Epoch 16/100\n",
      "10/10 - 74s - loss: 0.1149 - acc: 0.9688 - val_loss: 0.1793 - val_acc: 0.9453 - 74s/epoch - 7s/step\n",
      "Epoch 17/100\n",
      "10/10 - 76s - loss: 0.1032 - acc: 0.9781 - val_loss: 0.1492 - val_acc: 0.9570 - 76s/epoch - 8s/step\n",
      "Epoch 18/100\n",
      "10/10 - 73s - loss: 0.0989 - acc: 0.9797 - val_loss: 0.1544 - val_acc: 0.9375 - 73s/epoch - 7s/step\n",
      "Epoch 19/100\n",
      "10/10 - 76s - loss: 0.0953 - acc: 0.9750 - val_loss: 0.1899 - val_acc: 0.9336 - 76s/epoch - 8s/step\n",
      "Epoch 20/100\n",
      "10/10 - 74s - loss: 0.0945 - acc: 0.9770 - val_loss: 0.1179 - val_acc: 0.9570 - 74s/epoch - 7s/step\n",
      "Epoch 21/100\n",
      "10/10 - 78s - loss: 0.1031 - acc: 0.9734 - val_loss: 0.2203 - val_acc: 0.9219 - 78s/epoch - 8s/step\n",
      "Epoch 22/100\n",
      "10/10 - 77s - loss: 0.0741 - acc: 0.9828 - val_loss: 0.1259 - val_acc: 0.9570 - 77s/epoch - 8s/step\n",
      "Epoch 23/100\n",
      "Restoring model weights from the end of the best epoch: 20.\n",
      "10/10 - 76s - loss: 0.0805 - acc: 0.9797 - val_loss: 0.1309 - val_acc: 0.9609 - 76s/epoch - 8s/step\n",
      "Epoch 23: early stopping\n"
     ]
    },
    {
     "data": {
      "text/plain": [
       "<keras.callbacks.History at 0x284c3a831c0>"
      ]
     },
     "execution_count": 6,
     "metadata": {},
     "output_type": "execute_result"
    }
   ],
   "source": [
    "model = model_maker()\n",
    "callbacks = early_stopping\n",
    "\n",
    "model.compile(loss='categorical_crossentropy',\n",
    "             optimizer= tf.keras.optimizers.legacy.Adam(learning_rate=0.0001),\n",
    "             metrics=['acc'])\n",
    "\n",
    "model.fit(train_generator,\n",
    "         steps_per_epoch = 10,\n",
    "         epochs=100,\n",
    "         validation_data = validation_generator,\n",
    "         validation_steps = 4,\n",
    "         callbacks = callbacks,\n",
    "         verbose=2)"
   ]
  },
  {
   "cell_type": "code",
   "execution_count": 33,
   "id": "661fca56",
   "metadata": {},
   "outputs": [
    {
     "name": "stdout",
     "output_type": "stream",
     "text": [
      "8/8 [==============================] - 24s 3s/step - loss: 0.1941 - acc: 0.9455\n"
     ]
    },
    {
     "data": {
      "text/plain": [
       "[0.19405929744243622, 0.945492684841156]"
      ]
     },
     "execution_count": 33,
     "metadata": {},
     "output_type": "execute_result"
    }
   ],
   "source": [
    "model.evaluate(test_generator)"
   ]
  },
  {
   "cell_type": "code",
   "execution_count": 17,
   "id": "e8254f24",
   "metadata": {},
   "outputs": [
    {
     "name": "stdout",
     "output_type": "stream",
     "text": [
      "1/1 [==============================] - 0s 112ms/step\n",
      "[[2.7753647e-05 3.0694657e-05 2.4449355e-05 5.4127540e-06 9.9333161e-01\n",
      "  9.8006385e-05 4.9328664e-05 1.1521391e-05 1.7098459e-05 5.7680372e-06\n",
      "  5.7410912e-06 6.3926079e-03]]\n",
      "Здание мэрии Москвы (бывший дом генерал-губернатора)\n"
     ]
    }
   ],
   "source": [
    "img = image.load_img('C://Users//Legion 5//Desktop//Учёба//Стажки//Портфолио//Телеграмм бот для распознования Московских достопремичательностей//Мэрия.jpg', target_size=(224,224)) # Загружаем в нужном размере\n",
    "img_array = image.img_to_array(img)               # Превращаем в массив\n",
    "img_batch = np.expand_dims(img_array, axis = 0)   # Добавляем измерение (только когда одна фотка), иначе reshape\n",
    "img_preprocessed = preprocess_input(img_batch)    # Нормализуем\n",
    "\n",
    "predictions = model.predict(img_preprocessed)     # Предсказываем\n",
    "print(predictions)\n",
    "print(list(validation_generator.class_indices.keys())[np.argmax(predictions)])"
   ]
  },
  {
   "cell_type": "code",
   "execution_count": 18,
   "id": "58b6106c",
   "metadata": {},
   "outputs": [
    {
     "data": {
      "text/html": [
       "<div>\n",
       "<style scoped>\n",
       "    .dataframe tbody tr th:only-of-type {\n",
       "        vertical-align: middle;\n",
       "    }\n",
       "\n",
       "    .dataframe tbody tr th {\n",
       "        vertical-align: top;\n",
       "    }\n",
       "\n",
       "    .dataframe thead th {\n",
       "        text-align: right;\n",
       "    }\n",
       "</style>\n",
       "<table border=\"1\" class=\"dataframe\">\n",
       "  <thead>\n",
       "    <tr style=\"text-align: right;\">\n",
       "      <th></th>\n",
       "      <th>0</th>\n",
       "      <th>1</th>\n",
       "    </tr>\n",
       "  </thead>\n",
       "  <tbody>\n",
       "    <tr>\n",
       "      <th>4</th>\n",
       "      <td>Здание мэрии Москвы (бывший дом генерал-губерн...</td>\n",
       "      <td>0.993332</td>\n",
       "    </tr>\n",
       "    <tr>\n",
       "      <th>11</th>\n",
       "      <td>ЦУМ</td>\n",
       "      <td>0.006393</td>\n",
       "    </tr>\n",
       "    <tr>\n",
       "      <th>5</th>\n",
       "      <td>Иверские (Воскресенские) ворота</td>\n",
       "      <td>0.000098</td>\n",
       "    </tr>\n",
       "    <tr>\n",
       "      <th>6</th>\n",
       "      <td>Мавзолей В. И. Ленина</td>\n",
       "      <td>0.000049</td>\n",
       "    </tr>\n",
       "    <tr>\n",
       "      <th>1</th>\n",
       "      <td>ГУМ</td>\n",
       "      <td>0.000031</td>\n",
       "    </tr>\n",
       "    <tr>\n",
       "      <th>0</th>\n",
       "      <td>Большой театр</td>\n",
       "      <td>0.000028</td>\n",
       "    </tr>\n",
       "    <tr>\n",
       "      <th>2</th>\n",
       "      <td>Государственный исторический музей</td>\n",
       "      <td>0.000024</td>\n",
       "    </tr>\n",
       "    <tr>\n",
       "      <th>8</th>\n",
       "      <td>Никольская улица</td>\n",
       "      <td>0.000017</td>\n",
       "    </tr>\n",
       "    <tr>\n",
       "      <th>7</th>\n",
       "      <td>Московский Кремль</td>\n",
       "      <td>0.000012</td>\n",
       "    </tr>\n",
       "    <tr>\n",
       "      <th>9</th>\n",
       "      <td>Собор Казанской иконы Божией Матери на Красной...</td>\n",
       "      <td>0.000006</td>\n",
       "    </tr>\n",
       "    <tr>\n",
       "      <th>10</th>\n",
       "      <td>Храм Василия Блаженного</td>\n",
       "      <td>0.000006</td>\n",
       "    </tr>\n",
       "    <tr>\n",
       "      <th>3</th>\n",
       "      <td>Дом Пашкова</td>\n",
       "      <td>0.000005</td>\n",
       "    </tr>\n",
       "  </tbody>\n",
       "</table>\n",
       "</div>"
      ],
      "text/plain": [
       "                                                    0         1\n",
       "4   Здание мэрии Москвы (бывший дом генерал-губерн...  0.993332\n",
       "11                                                ЦУМ  0.006393\n",
       "5                     Иверские (Воскресенские) ворота  0.000098\n",
       "6                               Мавзолей В. И. Ленина  0.000049\n",
       "1                                                 ГУМ  0.000031\n",
       "0                                       Большой театр  0.000028\n",
       "2                  Государственный исторический музей  0.000024\n",
       "8                                    Никольская улица  0.000017\n",
       "7                                   Московский Кремль  0.000012\n",
       "9   Собор Казанской иконы Божией Матери на Красной...  0.000006\n",
       "10                            Храм Василия Блаженного  0.000006\n",
       "3                                         Дом Пашкова  0.000005"
      ]
     },
     "execution_count": 18,
     "metadata": {},
     "output_type": "execute_result"
    }
   ],
   "source": [
    "import pandas as pd\n",
    "a = pd.DataFrame(data=[validation_generator.class_indices.keys(), predictions[0]]).T\n",
    "a.sort_values(by=1, ascending = False)"
   ]
  },
  {
   "cell_type": "code",
   "execution_count": 19,
   "id": "06711498",
   "metadata": {},
   "outputs": [],
   "source": [
    "model.save(\"moscow_sights_center(12).h5\")"
   ]
  }
 ],
 "metadata": {
  "kernelspec": {
   "display_name": "Python 3 (ipykernel)",
   "language": "python",
   "name": "python3"
  },
  "language_info": {
   "codemirror_mode": {
    "name": "ipython",
    "version": 3
   },
   "file_extension": ".py",
   "mimetype": "text/x-python",
   "name": "python",
   "nbconvert_exporter": "python",
   "pygments_lexer": "ipython3",
   "version": "3.10.9"
  }
 },
 "nbformat": 4,
 "nbformat_minor": 5
}
